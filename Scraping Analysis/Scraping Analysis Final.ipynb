{
 "cells": [
  {
   "cell_type": "markdown",
   "id": "25360da6",
   "metadata": {},
   "source": [
    "### Disney Dataset Creation (BS4)"
   ]
  },
  {
   "cell_type": "markdown",
   "id": "746e71a1",
   "metadata": {},
   "source": [
    "#### Scrape & clean a list of disney wiki pages to create dataset to analyze information\n",
    "#### One box"
   ]
  },
  {
   "cell_type": "code",
   "execution_count": 1,
   "id": "ede20fbb",
   "metadata": {},
   "outputs": [],
   "source": [
    "from bs4 import BeautifulSoup as bs\n",
    "import requests "
   ]
  },
  {
   "cell_type": "code",
   "execution_count": null,
   "id": "22a26f2e",
   "metadata": {},
   "outputs": [],
   "source": [
    "page=requests.get('https://en.wikipedia.org/wiki/Toy_Story_3')\n",
    "soup=bs(page.content)"
   ]
  },
  {
   "cell_type": "code",
   "execution_count": null,
   "id": "7bc7ade0",
   "metadata": {},
   "outputs": [],
   "source": [
    "#Scraping table\n",
    "info_box=soup.find(class_='infobox vevent')\n",
    "\n",
    "info_rows=info_box.find_all('tr')\n",
    "\n",
    "for x in info_rows:\n",
    "    print(x.prettify())"
   ]
  },
  {
   "cell_type": "code",
   "execution_count": null,
   "id": "c3986461",
   "metadata": {},
   "outputs": [],
   "source": [
    "#Bulding dictionares\n",
    "\n",
    "movie_info={}\n",
    "\n",
    "def get_content_value(row_data):\n",
    "    if row_data.find(\"li\"):\n",
    "        return [li.get_text(\" \",strip=True).replace(\"\\xa0\",\" \") for li in row_data.find_all('li')]\n",
    "    else :\n",
    "        return row_data.get_text(\" \",strip=True).replace(\"\\xa0\",\" \")\n",
    "\n",
    "\n",
    "for index, row in enumerate(info_rows):  #funkcja enumerate po to aby automatycznie tworzyc indeksy\n",
    "    if index == 0:\n",
    "        movie_info['title']=row.find('th').get_text(\" \",strip=True)\n",
    "        \n",
    "    elif index == 1:\n",
    "        continue\n",
    "    else:\n",
    "        content_key=row.find('th').get_text(\" \",strip=True)\n",
    "        content_value=get_content_value(row.find('td'))\n",
    "        movie_info[content_key]=content_value\n",
    "\n",
    "        \n",
    "movie_info"
   ]
  },
  {
   "cell_type": "markdown",
   "id": "36799774",
   "metadata": {},
   "source": [
    "#### Scraping all box for all disney movies"
   ]
  },
  {
   "cell_type": "code",
   "execution_count": null,
   "id": "e7272769",
   "metadata": {},
   "outputs": [],
   "source": [
    "page=requests.get('https://en.wikipedia.org/wiki/List_of_Walt_Disney_Pictures_films')\n",
    "soup=bs(page.content)"
   ]
  },
  {
   "cell_type": "code",
   "execution_count": null,
   "id": "a3bb18b3",
   "metadata": {},
   "outputs": [],
   "source": [
    "movies=soup.select('.wikitable.sortable i')\n",
    "movies[0]"
   ]
  },
  {
   "cell_type": "code",
   "execution_count": null,
   "id": "851f266a",
   "metadata": {},
   "outputs": [],
   "source": [
    "def get_content_value(row_data):\n",
    "    if row_data.find(\"li\"):\n",
    "        return [li.get_text(\" \",strip=True).replace(\"\\xa0\",\" \") for li in row_data.find_all('li')]\n",
    "    else :\n",
    "        return row_data.get_text(\" \",strip=True).replace(\"\\xa0\",\" \")\n",
    "\n",
    "\n",
    "def get_info_box(url):\n",
    "    \n",
    "    page=requests.get(url)\n",
    "    soup=bs(page.content)\n",
    "    \n",
    "    info_box=soup.find(class_='infobox vevent')\n",
    "    info_rows=info_box.find_all('tr')\n",
    "\n",
    "    movie_info={}\n",
    "    for index, row in enumerate(info_rows):  #funkcja enumerate po to aby automatycznie tworzyc indeksy\n",
    "        if index == 0:\n",
    "            movie_info['title']=row.find('th').get_text(\" \",strip=True)\n",
    "\n",
    "        elif index == 1:\n",
    "            continue\n",
    "        else:\n",
    "            content_key=row.find('th').get_text(\" \",strip=True)\n",
    "            content_value=get_content_value(row.find('td'))\n",
    "            movie_info[content_key]=content_value\n",
    "    return movie_info"
   ]
  },
  {
   "cell_type": "code",
   "execution_count": null,
   "id": "2ae27479",
   "metadata": {},
   "outputs": [],
   "source": [
    "page=requests.get('https://en.wikipedia.org/wiki/List_of_Walt_Disney_Pictures_films')\n",
    "soup=bs(page.content)\n",
    "movies=soup.select('.wikitable.sortable i a')\n",
    "\n",
    "base_path=\"https://en.wikipedia.org/\"\n",
    "\n",
    "movie_info_list=[]\n",
    "\n",
    "for index, movie in enumerate(movies):\n",
    "    try:\n",
    "        relative_path=movie['href']\n",
    "        full_path=base_path + relative_path\n",
    "        title=movie['title']\n",
    "\n",
    "        movie_info_list.append(get_info_box(full_path))\n",
    "\n",
    "\n",
    "    except Exception as e:\n",
    "        print(movie.get_text())\n",
    "        print(e)        "
   ]
  },
  {
   "cell_type": "markdown",
   "id": "041d0920",
   "metadata": {},
   "source": [
    "#### Save/Reload Movie Data in json file"
   ]
  },
  {
   "cell_type": "code",
   "execution_count": null,
   "id": "e08e30ad",
   "metadata": {},
   "outputs": [],
   "source": [
    "import json\n",
    "\n",
    "def save_data(title, data):\n",
    "    with open(title,'w',encoding='utf-8') as f:\n",
    "        json.dumb(data,f,enscure_ascii=False, indent=2 )"
   ]
  },
  {
   "cell_type": "code",
   "execution_count": null,
   "id": "63084dce",
   "metadata": {},
   "outputs": [],
   "source": [
    "import json \n",
    "\n",
    "def load_data(title):\n",
    "    with open(title,encoding='utf-8') as f:\n",
    "        return json.load(f)\n",
    "    \n",
    "#save_data('disney_data.json',movie_info_list)"
   ]
  },
  {
   "cell_type": "markdown",
   "id": "5dc1457a",
   "metadata": {},
   "source": [
    "## Clean Data"
   ]
  },
  {
   "cell_type": "code",
   "execution_count": null,
   "id": "ae2ce746",
   "metadata": {},
   "outputs": [],
   "source": [
    "movies_data=load_data('disney_data2.json')"
   ]
  },
  {
   "cell_type": "markdown",
   "id": "eb9c15d9",
   "metadata": {},
   "source": [
    "##### Substask\n",
    "- Celan up references [1] \n",
    "- Convert running time into a intnger\n",
    "- Convert dates into datetime object\n",
    "- Split up the long strings -  done\n",
    "- Convert budget and box office to numbers"
   ]
  },
  {
   "cell_type": "code",
   "execution_count": null,
   "id": "85d5e83c",
   "metadata": {},
   "outputs": [],
   "source": [
    "#Celan up references [1], [2] etc / doubled film premiere\n",
    "#Split up the long strings "
   ]
  },
  {
   "cell_type": "code",
   "execution_count": null,
   "id": "ee784373",
   "metadata": {},
   "outputs": [],
   "source": [
    "def get_content_value(row_data):\n",
    "    if row_data.find(\"li\"):\n",
    "        return [li.get_text(\" \",strip=True).replace(\"\\xa0\",\" \") for li in row_data.find_all('li')]\n",
    "    elif row_data.find('br'): # tworzenie lsty dla  aktorów wystepujacych w filmie, tam gdzie tego nie było / split up long string\n",
    "        return [text for text in row_data.stripped_strings]        \n",
    "    else :\n",
    "        return row_data.get_text(\" \",strip=True).replace(\"\\xa0\",\" \")\n",
    "\n",
    "def clean_tags(soup): # usuwanie [1],[2] etc oraz zbugowanych podwojnych dat wydania filmu\n",
    "    for tag in soup.find_all([\"sup\",\"span\"]):\n",
    "        tag.decompose()    \n",
    "    \n",
    "\n",
    "def get_info_box(url):\n",
    "    \n",
    "    page=requests.get(url)\n",
    "    soup=bs(page.content)\n",
    "    \n",
    "    info_box=soup.find(class_='infobox vevent')\n",
    "    info_rows=info_box.find_all('tr')\n",
    "    \n",
    "    clean_tags(soup)\n",
    "    \n",
    "    movie_info={}\n",
    "    for index, row in enumerate(info_rows):  #funkcja enumerate po to aby automatycznie tworzyc indeksy\n",
    "        if index == 0:\n",
    "            movie_info['title']=row.find('th').get_text(\" \",strip=True)\n",
    "\n",
    "        else:\n",
    "            header=row.find('th')\n",
    "            if header:\n",
    "                content_key=row.find('th').get_text(\" \",strip=True)\n",
    "                content_value=get_content_value(row.find('td'))\n",
    "                movie_info[content_key]=content_value\n",
    "    return movie_info"
   ]
  },
  {
   "cell_type": "code",
   "execution_count": null,
   "id": "3a345439",
   "metadata": {},
   "outputs": [],
   "source": [
    "get_info_box('https://en.wikipedia.org/wiki/Toy_Story_3')"
   ]
  },
  {
   "cell_type": "code",
   "execution_count": null,
   "id": "fad75c71",
   "metadata": {},
   "outputs": [],
   "source": [
    "#Convert running time into a integer"
   ]
  },
  {
   "cell_type": "code",
   "execution_count": null,
   "id": "482991a7",
   "metadata": {},
   "outputs": [],
   "source": [
    "[movie.get('Running time','N/A') for movie in movies_data]"
   ]
  },
  {
   "cell_type": "code",
   "execution_count": null,
   "id": "b56cf147",
   "metadata": {},
   "outputs": [],
   "source": [
    "\" 85 minutes\"\n",
    "def minute_to_intiger(running_time):\n",
    "    if running_time == 'N/A':\n",
    "        return None\n",
    "    \n",
    "    if isinstance(running_time,list):\n",
    "        return int(running_time[0].split(' ')[0])     \n",
    "    else:\n",
    "        return int(running_time.split(' ')[0])\n",
    "    \n",
    "for movie in movies_data:\n",
    "    movie['Running time (int)']=minute_to_intiger(movie.get('Running time','N/A'))"
   ]
  },
  {
   "cell_type": "code",
   "execution_count": null,
   "id": "42b61135",
   "metadata": {},
   "outputs": [],
   "source": [
    "[movie.get('Running time (int)','N/A') for movie in movies_data]"
   ]
  },
  {
   "cell_type": "code",
   "execution_count": null,
   "id": "dd64b285",
   "metadata": {},
   "outputs": [],
   "source": [
    "#Convert budget and box office to numbers"
   ]
  },
  {
   "cell_type": "code",
   "execution_count": null,
   "id": "bdc28a37",
   "metadata": {},
   "outputs": [],
   "source": [
    "import re\n",
    "\n",
    "number=r\"\\d+(,\\d{3})*\\.*\\d*\"\n",
    "amount = r\"thousand|million|billion\"\n",
    "value_re = rf'\\${number}'\n",
    "word_re = rf'\\${number}(-|\\sto\\s|–)?({number})?\\s({amount})'\n",
    "\n",
    "def word_to_value(word):\n",
    "    value_dict = {'thousand':1000,'million':1000000,'billion':1000000000}\n",
    "    return value_dict[word]\n",
    "\n",
    "\n",
    "def parse_word_syntax(string):\n",
    "    value_string=re.search(number,string).group()\n",
    "    value = float(value_string.replace(',', ''))\n",
    "    word = re.search(amount, string,flags=re.I).group().lower()\n",
    "    word_value= word_to_value(word)\n",
    "    return value * word_value\n",
    "\n",
    "\n",
    "def parse_value_syntax(string):\n",
    "    value_string=re.search(number,string).group()\n",
    "    value=float(value_string.replace(',',''))\n",
    "    return value\n",
    "\n",
    "def money_conversion(money):\n",
    "    if money =='N/A':\n",
    "        return None\n",
    "    if isinstance(money,list):\n",
    "        money=money[0]\n",
    "\n",
    "    word_syntax = re.search(word_re,money,flags=re.I)\n",
    "    value_syntax = re.search(value_re,money)\n",
    "    if word_syntax:\n",
    "        return parse_word_syntax(word_syntax.group())\n",
    "    elif value_syntax:\n",
    "        return parse_value_syntax(value_syntax.group())\n",
    "\n",
    "    else:\n",
    "        return None"
   ]
  },
  {
   "cell_type": "code",
   "execution_count": null,
   "id": "823130f5",
   "metadata": {},
   "outputs": [],
   "source": [
    "for movie in movies_data:\n",
    "    movie['Budget (float)']=money_conversion(movie.get('Budget','N/A'))\n",
    "    movie['Box office (float)']=money_conversion(movie.get('Box office','N/A'))  "
   ]
  },
  {
   "cell_type": "code",
   "execution_count": 2,
   "id": "927cc907",
   "metadata": {},
   "outputs": [],
   "source": [
    "#Convert dates into datetime object"
   ]
  },
  {
   "cell_type": "code",
   "execution_count": null,
   "id": "73f7aec1",
   "metadata": {},
   "outputs": [],
   "source": [
    "[movie.get('Release date','N/A') for movie in movies_data]"
   ]
  },
  {
   "cell_type": "code",
   "execution_count": null,
   "id": "618bf0a1",
   "metadata": {},
   "outputs": [],
   "source": [
    "from datetime import datetime\n",
    "\n",
    "dates=[movie.get('Release date','N/A') for movie in movies_data]\n",
    "\n",
    "def clean_date(date):\n",
    "    return date.split(\"(\")[0].strip()\n",
    "\n",
    "def date_conversion(date):\n",
    "    if isinstance(date,list):\n",
    "        date=date[0]\n",
    "    if date ==\"N/A\":\n",
    "        return None\n",
    "    date_str=clean_date(date)\n",
    "\n",
    "    fmts=[\"%B %d, %Y\",\"%d %B, %Y\"]\n",
    "    for fmt in fmts:\n",
    "        try:\n",
    "            return datetime.strptime(date_str,fmt)\n",
    "        except:\n",
    "            pass\n",
    "    return None       "
   ]
  },
  {
   "cell_type": "code",
   "execution_count": null,
   "id": "4382ff32",
   "metadata": {},
   "outputs": [],
   "source": [
    "for movie in movies_data:\n",
    "    movie['Release date (datetime)']=date_conversion(movie.get('Release date','N/A'))"
   ]
  },
  {
   "cell_type": "markdown",
   "id": "47a02565",
   "metadata": {},
   "source": [
    "#### Save new data as  `. pickle` formats"
   ]
  },
  {
   "cell_type": "code",
   "execution_count": null,
   "id": "01099108",
   "metadata": {},
   "outputs": [],
   "source": [
    "import pickle\n",
    "\n",
    "def save_data_pickle(name,data):\n",
    "    with open(name,'wb') as f:\n",
    "        pickle.dump(data,f)   "
   ]
  },
  {
   "cell_type": "code",
   "execution_count": null,
   "id": "57f6f352",
   "metadata": {},
   "outputs": [],
   "source": [
    "import pickle\n",
    "\n",
    "def load_data_pickle(name):\n",
    "    with open(name,'rb') as f:\n",
    "        return pickle.load(f)"
   ]
  },
  {
   "cell_type": "code",
   "execution_count": null,
   "id": "42d85264",
   "metadata": {},
   "outputs": [],
   "source": [
    "save_data_pickle('disney_data3.pickle',movies_data)"
   ]
  },
  {
   "cell_type": "code",
   "execution_count": null,
   "id": "87b058fc",
   "metadata": {},
   "outputs": [],
   "source": [
    "movies_data2=load_data_pickle('disney_data3.pickle')"
   ]
  },
  {
   "cell_type": "markdown",
   "id": "031a7b9a",
   "metadata": {},
   "source": [
    "### Atach IMDB/Rotten Tomatoes scores"
   ]
  },
  {
   "cell_type": "markdown",
   "id": "f98d7141",
   "metadata": {},
   "source": [
    "#### Working with API"
   ]
  },
  {
   "cell_type": "code",
   "execution_count": null,
   "id": "85029236",
   "metadata": {},
   "outputs": [],
   "source": [
    "import requests\n",
    "import urllib"
   ]
  },
  {
   "cell_type": "code",
   "execution_count": null,
   "id": "78349bc2",
   "metadata": {},
   "outputs": [],
   "source": [
    "api_key='key'\n",
    "\n",
    "api_key2='key'\n",
    "\n",
    "\n",
    "def get_ombd_info(title):\n",
    "    base_url='http://www.omdbapi.com/'\n",
    "    parameters = {'apikey':'3e689679','t':title}\n",
    "    params_encoded= urllib.parse.urlencode(parameters)\n",
    "    base_url='http://www.omdbapi.com/?'\n",
    "    full_url = base_url + params_encoded\n",
    "    return requests.get(full_url).json()\n",
    "\n",
    "def get_rotten_tomato_score(ombd_info):\n",
    "    ratings=ombd_info.get('Ratings',[])\n",
    "    \n",
    "    for rating in ratings:\n",
    "        if rating['Source'] =='Rotten Tomatoes':\n",
    "            return rating['Value']\n",
    "\n",
    "    return None\n",
    "\n",
    "get_ombd_info('avengers endgame')\n",
    "\n",
    "#get_rotten_tomato_score(info)"
   ]
  },
  {
   "cell_type": "code",
   "execution_count": null,
   "id": "51e7209f",
   "metadata": {},
   "outputs": [],
   "source": [
    "for movie in movies_data2:\n",
    "    title=movie['title']\n",
    "    ombd_info = get_ombd_info(title)\n",
    "    movie['imbd'] = ombd_info.get('imdbRating',None)\n",
    "    movie['metascore']=ombd_info.get('Metascore',None)\n",
    "    movie['rotten_tomatoes'] = get_rotten_tomato_score(ombd_info)"
   ]
  },
  {
   "cell_type": "code",
   "execution_count": null,
   "id": "5ec42783",
   "metadata": {},
   "outputs": [],
   "source": [
    "save_data_pickle('disney_data_final.pickle',movies_data2)"
   ]
  },
  {
   "cell_type": "markdown",
   "id": "d556b1f8",
   "metadata": {},
   "source": [
    "### Saving data as JSON & CSV"
   ]
  },
  {
   "cell_type": "code",
   "execution_count": null,
   "id": "8aea9157",
   "metadata": {},
   "outputs": [],
   "source": [
    "movies_data2_copy=[movie.copy() for movie in movies_data2]"
   ]
  },
  {
   "cell_type": "code",
   "execution_count": null,
   "id": "b7f6d255",
   "metadata": {},
   "outputs": [],
   "source": [
    "for movie in movies_data2_copy:\n",
    "    current_date=movie['Release date (datetime)']\n",
    "    if current_date:\n",
    "        movie['Release date (datetime)'] = current_date.strftime(\"%B %d, %Y\")\n",
    "    else:\n",
    "        movie['Release date (datetime)'] = None"
   ]
  },
  {
   "cell_type": "code",
   "execution_count": null,
   "id": "5eece250",
   "metadata": {},
   "outputs": [],
   "source": [
    "import json\n",
    "\n",
    "def save_data(title, data):\n",
    "    with open(title,'w',encoding='utf-8') as f:\n",
    "        json.dump(data,f,ensure_ascii=False, indent=2 )"
   ]
  },
  {
   "cell_type": "code",
   "execution_count": null,
   "id": "f5483e58",
   "metadata": {},
   "outputs": [],
   "source": [
    "save_data('disney_data_final.json', movies_data2_copy)"
   ]
  }
 ],
 "metadata": {
  "kernelspec": {
   "display_name": "Python 3",
   "language": "python",
   "name": "python3"
  },
  "language_info": {
   "codemirror_mode": {
    "name": "ipython",
    "version": 3
   },
   "file_extension": ".py",
   "mimetype": "text/x-python",
   "name": "python",
   "nbconvert_exporter": "python",
   "pygments_lexer": "ipython3",
   "version": "3.7.6"
  }
 },
 "nbformat": 4,
 "nbformat_minor": 5
}
